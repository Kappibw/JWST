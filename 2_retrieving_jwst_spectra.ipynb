{
 "cells": [
  {
   "cell_type": "markdown",
   "id": "5aa6980b-1a9b-4676-8b97-0bee841ad414",
   "metadata": {},
   "source": [
    "# Retrieving JWST Exoplanet Spectra\n",
    "Part 1 of the [Primer on Exoplanets and JWST](https://github.com/Kappibw/JWST) series.\n",
    "\n",
    "## Who is this tutorial for?\n",
    "\n",
    "People that\n",
    "- Have some programming know-how (basic python is fine!)\n",
    "- *Don't* necessarily have an education/ experience in astronomy/astrophysics\n",
    "- Are excited about JWST's potential to tell us about planets outside our solar system!\n",
    "\n",
    "## What does this tutorial cover?\n",
    "\n",
    "A primer on retrieving and displaying exoplanet spectra, including:\n",
    "- A guide to downloading raw JWST spectra data via astroquery\n",
    "- Pointers to data processing software for raw JWST data\n",
    "- Fetching and displaying WASP-39B's _processed_ spectrum, the first exoplanet [JWST confirmed has CO2 in its atmosphere](https://www.nasa.gov/feature/goddard/2022/nasa-s-webb-detects-carbon-dioxide-in-exoplanet-atmosphere).\n",
    "\n",
    "## What should you know going in?\n",
    "\n",
    "- [The 6](https://webbtelescope.org/resource-gallery/articles) (quick) articles on spectroscopy 101"
   ]
  },
  {
   "cell_type": "markdown",
   "id": "00c6007d-2b8f-4ba8-988f-d9a30aebdeee",
   "metadata": {},
   "source": [
    "# 1. Introduction\n",
    "\n",
    "If you did my [image retrieval tutorial](https://github.com/Kappibw/JWST/blob/main/1_accessing_jwst_data.ipynb) then you, like me, might have been bouyed by how straightforward it was to start playing with visual images of astronomical objects taken by JWST. However, the reason I am particularly excited by JWST is because of its ability to tell us about the environments of planets beyond our solar system. Because planets are tiny compared to their stars, and orbit close to them, they are very difficult to take pictures of directly, and when we do they just [look like small blobs](https://blogs.nasa.gov/webb/2022/09/01/nasas-webb-takes-its-first-ever-direct-image-of-distant-world/). \n",
    "\n",
    "However, we have another tool up our sleeve- _spectroscopy_. JWST is able to split the light coming from exoplanets into the different wavelengths that make it up so that we can see how much of each wavelength of light the planet's atmosphere is absorbing. As you will have learned in the [spectroscopy 101 articles](https://webbtelescope.org/resource-gallery/articles), this can then tell us what molecules are present on that alien world. Spectra might not look very inspiring at first glance, but they contain rich data, and are a fundamental part of exoplanet research.\n",
    "\n",
    "#### Information Extraction\n",
    "\n",
    "The catch here is that JWST doesn't directly record spectra. For images, light from the object falls on the JWST detectors and we see the direct result- brighter pixels have more light. However, for spectra light is split inside JWST and the spread out light lands on a detector. This smear of light then has to be processed to tease out what it is telling us- namely how much light was received from each wavelength.\n",
    "\n",
    "But that's not all that makes it difficult. When we point JWST at exoplanets, we are actually pointing it at the exoplanet's host star, which is much bigger. For transit spectroscopy (the focus of these tutorials), it is really the host star's light that JWST records while the planet travels in between JWST and the star, and then intepret how much that light dims as the planet passes in front. That means that not only do we have to interpret the \"smear\" of light, but we have to figure out how to measure the tiny variance in the starlight during transit. \n",
    "\n",
    "You can see in the image below that the starlight only dips by about 1% when the planet is in front of it, and that is for a massive gas giant (imagine trying to tease apart the light blocked by a tiny earth-like planet!). \n",
    "\n",
    "<img src=\"https://drive.google.com/uc?id=1h4DsDWSjCErhbw3PchLE30G28ox2o2SJ\"></img> \n",
    "\n",
    "When we see the final spectrum, we are looking at a measure of the \"Amount of Light Blocked\" of the star, or $\\frac{\\Delta F}{F}$, where F is Flux (light). This is equal to the ratio of the size of the planet versus the size of its host star, a quantity you'll often see as $\\frac{R_p^2}{R_s^2}$, which is the radius of the planet squared over the radius of the star squared. So we get a handy way to compute the radius of an exoplanet by measuring the light it blocks. [This article](https://www.paulanthonywilson.com/exoplanets/exoplanet-detection-techniques/the-exoplanet-transit-method/) explains the maths involved quite well. So when we look at spectra, we are equivalently looking at the amount of blocked light, or the planet size.\n",
    "\n",
    "This all means that you have to isolate just the tiny effects of a passing planet on the starlight and then figure out how much that effect changes by wavelength- because for wavelengths that the planet's atmosphere is absorbing, we will get just a _little tiny_ bit less light than we do for wavelengths that pass through the atmosphere unencumbered, which will make the planet look just _a tiny bit_ bigger at those wavelengths. And it's that information that tells us whether there's water, CO2, etc in the atmosphere.\n",
    "\n",
    "<img src=\"https://drive.google.com/uc?id=1imL0MnItR5wPQkfJIijsYtXK0077bOVE\"></img>\n",
    "\n",
    "A daunting task! Luckily there is a software package called `Eureka!` that can perform all this intepretation, starlight subtraction and general processing, but in this tutorial we are going to do some cheating. \n",
    "\n",
    "We will look at how to get raw planetary spectroscopy data from JWST, and take a look at how we _could_ crunch down all that raw data using `Eureka!` into a spectrum like those [we are used to seeing](https://www.nasa.gov/image-feature/goddard/2022/nasa-s-webb-reveals-steamy-atmosphere-of-distant-planet-in-detail) - a measure of flux per wavelength. Then we are going to skip actually doing that processing, because lucky for us, the team that wrote the paper announcing [the discovery of CO2 on WASP-39B](https://www.nasa.gov/feature/goddard/2022/nasa-s-webb-detects-carbon-dioxide-in-exoplanet-atmosphere) had to process the data too, using the same method, and they published their processed data for all to download!\n",
    "\n",
    "#### Why aren't we doing the full processing pipeline?\n",
    "\n",
    "I had a go at running the `Eureka!` pipeline to do the processing myself but:\n",
    "  1) As promised by the premise of these tutorials, I am not an expert\n",
    "  2) The software itself is under active development, and doesn't have beginner-friendly debugging tips\n",
    "  3) The amount of data I had to crunch is massive (>8GB) and I don't want to make that a requirement of this tutorial.\n",
    "  \n",
    "I did manage to run the pipeline start to finish, but my output didn't look as expected, and my limited knowledge of the field meant I didn't have much luck messing around with configuration options to fix it. If you decide to try the processing and have better luck than me, let me know, I'd love to add to this tutorial. For now I'm just including the steps you could take to run the pipeline if you wish!\n"
   ]
  },
  {
   "cell_type": "markdown",
   "id": "35071d03-f778-48cb-bd7c-4d0ab4fed746",
   "metadata": {},
   "source": [
    "# 2. Set Up\n"
   ]
  },
  {
   "cell_type": "markdown",
   "id": "87864504-386a-41ba-968d-56858f34cdd1",
   "metadata": {},
   "source": [
    "## Eureka!\n",
    "\n",
    "Note that you can skip installing `Eureka!` if you don't want to try your own processing, and can instead just read through the steps. It will save you cloning a github repository.\n",
    "\n",
    "### Conda Environment\n",
    "Eureka! strongly reccomends installing it in a fresh conda environment. Assuming you [use conda](https://docs.conda.io/en/latest/miniconda.html) (encouraged), you'll then also have to install the other packages you need for this tutorial into your new conda environment as well, even if you already have them (like Jupyter-lab).\n",
    "\n",
    "### Install Eureka\n",
    "From the instructions [here](https://eurekadocs.readthedocs.io/en/latest/installation.html#installation).\n",
    "\n",
    "### Locate the configuration files\n",
    "If you cloned the Eureka! github during the install above, you should be able to follow the path `Eureka/demos/JWST` inside the cloned repo to find the demo files. If you didn't clone the repo then you can find them on the [github page for the project](https://github.com/kevin218/Eureka/tree/main/demos/JWST). Only a few of these are going to be relevant to us, so make sure you can find the following files.\n",
    " 1. [S4_template.ecf](https://github.com/kevin218/Eureka/blob/main/demos/JWST/S4_template.ecf)\n",
    " 2. [S5_fit_par_template.epf](https://github.com/kevin218/Eureka/blob/main/demos/JWST/S5_fit_par_template.epf)\n",
    " 3. [S5_template.ecf](https://github.com/kevin218/Eureka/blob/main/demos/JWST/S5_template.ecf)\n",
    " 4. [S6_template.ecf](https://github.com/kevin218/Eureka/blob/main/demos/JWST/S6_template.ecf)\n"
   ]
  },
  {
   "cell_type": "markdown",
   "id": "4dfc63d6-890e-47d4-bdf5-b1ac35cb6c8a",
   "metadata": {},
   "source": [
    "## Jupyter\n",
    "In order to follow along with this tutorial in place, you will need to be able to run Jupyter notebooks (install from [here](https://jupyter.org/install)). Then you can download this notebook from git and open it in Jupyter."
   ]
  },
  {
   "cell_type": "code",
   "execution_count": 1,
   "id": "324ac923-4102-48e5-b828-ed64e6dfaf21",
   "metadata": {},
   "outputs": [
    {
     "name": "stdout",
     "output_type": "stream",
     "text": [
      "hello JWST!\n"
     ]
    }
   ],
   "source": [
    "#run this cell in place once you have Juypyter up and running.\n",
    "print(\"hello JWST!\")"
   ]
  },
  {
   "cell_type": "markdown",
   "id": "3e700c6e-473b-4cc5-856b-426359082518",
   "metadata": {},
   "source": [
    "## Astroquery\n",
    "Now, you'll need python packages that are specifically used by astronomers. We will use the library astroquery, which is affiliated with the astropy project, and makes programatically accessing archives of astronomical data straightforward.\n",
    "\n",
    "__Note:__ I sometimes get timeout errors using astroquery, and re-running seems to clear them.\n",
    "\n",
    "1. Install astropy from the instructions [here](https://docs.astropy.org/en/stable/install.html).\n",
    "2. Install the astroquery library from the instructions [here](https://astroquery.readthedocs.io/en/latest/#installation)."
   ]
  },
  {
   "cell_type": "code",
   "execution_count": 2,
   "id": "3b811d4b-d6d9-427f-86f9-efe4449c73e4",
   "metadata": {},
   "outputs": [
    {
     "name": "stdout",
     "output_type": "stream",
     "text": [
      "done\n"
     ]
    }
   ],
   "source": [
    "# Check we can load astroquery packages, that we will use later.\n",
    "from astropy.io import fits\n",
    "from astroquery.mast import Observations\n",
    "print(\"done\")"
   ]
  },
  {
   "cell_type": "markdown",
   "id": "e0a2f2ff-549b-4de1-8ed8-ff5e8c903020",
   "metadata": {},
   "source": [
    "## JWST Data\n",
    "\n",
    "Lastly, we will need to set up access for the raw JWST data. JWST data is made available via the Mikulski Archive for Space Telescopes (MAST). This is a huge archive of astronomical data from lots of different missions including Hubble, TESS and Kepler, and is named for [Barabara Mikulski](https://en.wikipedia.org/wiki/Barbara_Mikulski), as US senator who was a big supporter of Hubble and Webb. \n",
    "\n",
    "There are several ways to access the data it stores: via the online portal, the API, bulk AWS download scripts, or you can look up what information we have for a chosen exoplanet in their exoplanet-specific UI exo.MAST. For example, [here is the exo.MAST page for WASP-96b](https://exo.mast.stsci.edu/exomast_planet.html?planet=WASP96b), the exoplanet observed in JWST's [first images](https://www.nasa.gov/webbfirstimages).\n",
    "\n",
    "For this tutorial, we will use the python library Astroquery, which is affiliated with the astropy project.\n",
    "\n",
    "1. Sign up for a MAST portal account (Managed by the Space Telescope Science Institude and called \"My Space Telescope\" - MyST) [here](https://proper.stsci.edu/proper/authentication/auth)."
   ]
  },
  {
   "cell_type": "code",
   "execution_count": 3,
   "id": "5dc065d7-4e44-4a90-9c26-7248e303957a",
   "metadata": {},
   "outputs": [
    {
     "name": "stdout",
     "output_type": "stream",
     "text": [
      "done\n"
     ]
    }
   ],
   "source": [
    "from astroquery.mast import Observations\n",
    "print(\"done\")"
   ]
  },
  {
   "cell_type": "markdown",
   "id": "94c4e576-11a9-4bc4-bf6b-5afee07d41c0",
   "metadata": {},
   "source": [
    "# 3. Downloading raw JWST data\n",
    "\n",
    "Now we have all our tools, let's look at some real data! We are going to focus on [exoplanet transit](https://exoplanets.nasa.gov/faq/31/whats-a-transit) data. There are [other methods](https://www.paulanthonywilson.com/exoplanets/exoplanet-detection-techniques/) of examining exoplanets, but we won't dive into those here.\n",
    "\n",
    "We are going to look up data for WASP-39B, a gas giant 700 light years away that was the first planet with [confirmed CO2 in its atmosphere](https://www.nasa.gov/feature/goddard/2022/nasa-s-webb-detects-carbon-dioxide-in-exoplanet-atmosphere), thanks to JWST. If we look at the [exo.MAST page for WASP-39B](https://exo.mast.stsci.edu/exomast_planet.html?planet=WASP39B) we can see in the panel on the right that JWST observed WASP-39B during a transit, which is what we are after! \n",
    "\n",
    "Seeing as this is a programming-centric tutorial, let's get some more information programmatically via astroquery (which queries the same MAST data sources as exo.MAST)."
   ]
  },
  {
   "cell_type": "code",
   "execution_count": 6,
   "id": "b68bb12c-3ddd-406a-bec6-788e58e6d11e",
   "metadata": {},
   "outputs": [
    {
     "name": "stdout",
     "output_type": "stream",
     "text": [
      "Number of results: 1446\n",
      "['intentType', 'obs_collection', 'provenance_name', 'instrument_name', 'project', 'filters', 'wavelength_region', 'target_name', 'target_classification', 'obs_id', 's_ra', 's_dec', 'dataproduct_type', 'proposal_pi', 'calib_level', 't_min', 't_max', 't_exptime', 'em_min', 'em_max', 'obs_title', 't_obs_release', 'proposal_id', 'proposal_type', 'sequence_number', 's_region', 'jpegURL', 'dataURL', 'dataRights', 'mtFlag', 'srcDen', 'obsid', 'distance']\n",
      "22\n",
      " obsid                           obs_id                         instrument_name\n",
      "-------- ------------------------------------------------------ ---------------\n",
      "87742481     jw01366-o001_t001_niriss_clear-gr700xd-substrip256          NIRISS\n",
      "87742384     jw01366-o001_t001_niriss_f277w-gr700xd-substrip256          NIRISS\n",
      "87682152     jw01366-o002_t001_nircam_f322w2-grismr-subgrism256          NIRCAM\n",
      "87769481 jw01366-o003_t001_nirspec_f290lp-g395h-s1600a1-sub2048         NIRSPEC\n",
      "87625349   jw01366-o004_t001_nirspec_clear-prism-s1600a1-sub512         NIRSPEC\n",
      "86879519                       jw01366001001_xx102_00001_niriss    NIRISS/IMAGE\n",
      "86879520                       jw01366001001_xx103_00001_niriss    NIRISS/IMAGE\n",
      "87681967                 jw01366002001_04103_00001-seg001_nrca3          NIRCAM\n",
      "87681964                 jw01366002001_04103_00001-seg002_nrca3          NIRCAM\n",
      "87681959                 jw01366002001_04103_00001-seg003_nrca3          NIRCAM\n",
      "87681962                 jw01366002001_04103_00001-seg004_nrca3          NIRCAM\n",
      "86879521                       jw01366002001_xx102_00001_nircam    NIRCAM/GRISM\n",
      "86879522                      jw01366003001_xx102_00001_nirspec    NIRSPEC/SLIT\n",
      "87618706                  jw01366004001_04101_00001-seg001_nrs2         NIRSPEC\n",
      "87618659                  jw01366004001_04101_00001-seg002_nrs2         NIRSPEC\n",
      "87618657                  jw01366004001_04101_00001-seg003_nrs2         NIRSPEC\n",
      "87618709                  jw01366004001_04101_00001-seg004_nrs2         NIRSPEC\n",
      "86879523                      jw01366004001_xx102_00001_nirspec    NIRSPEC/SLIT\n",
      "87681961                 jw01366002001_04103_00001-seg001_nrca1          NIRCAM\n",
      "87681970                 jw01366002001_04103_00001-seg002_nrca1          NIRCAM\n",
      "87681960                 jw01366002001_04103_00001-seg003_nrca1          NIRCAM\n",
      "87681963                 jw01366002001_04103_00001-seg004_nrca1          NIRCAM\n"
     ]
    }
   ],
   "source": [
    "# Limit our query to WASP-39_b\n",
    "obsByName = Observations.query_object(\"WASP-39_b\",radius=\".02 deg\")\n",
    "print(\"Number of results:\",len(obsByName))\n",
    "print(obsByName.keys())\n",
    "\n",
    "# See if you can see any observations by JWST!\n",
    "jwst_only = obsByName[(obsByName['obs_collection'] == 'JWST')]\n",
    "print(len(jwst_only))\n",
    "print(jwst_only['obsid','obs_id','instrument_name'])"
   ]
  },
  {
   "cell_type": "markdown",
   "id": "7893d45e-08f9-4bdd-a892-e26aeed190ee",
   "metadata": {},
   "source": [
    "Both NIRISS and NIRSPEC collect spectrocopy data, but at the time of writing processing NIRISS data is tricky and not yet fully supported in `Eureka!`. So we are just going to narrow down our options to NIRSPEC only:"
   ]
  },
  {
   "cell_type": "code",
   "execution_count": 29,
   "id": "5a6d2df9-bf30-402c-82cb-ddc332e921d1",
   "metadata": {},
   "outputs": [
    {
     "name": "stdout",
     "output_type": "stream",
     "text": [
      " obsid                           obs_id                               t_min       t_exptime calib_level dataproduct_type\n",
      "-------- ------------------------------------------------------ ----------------- --------- ----------- ----------------\n",
      "87769481 jw01366-o003_t001_nirspec_f290lp-g395h-s1600a1-sub2048 59790.90101464306 29789.053           3         spectrum\n",
      "87625349   jw01366-o004_t001_nirspec_clear-prism-s1600a1-sub512 59770.62185407593  29614.96           3         spectrum\n",
      "87618706                  jw01366004001_04101_00001-seg001_nrs2 59770.64645755787  29614.96           2            image\n",
      "87618659                  jw01366004001_04101_00001-seg002_nrs2 59770.64645755787  29614.96           2            image\n",
      "87618657                  jw01366004001_04101_00001-seg003_nrs2 59770.64645755787  29614.96           2            image\n",
      "87618709                  jw01366004001_04101_00001-seg004_nrs2 59770.64645755787  29614.96           2            image\n",
      "Human Readable t_min:\n",
      "['2022-07-30T21:37:27.665', '2022-07-10T14:55:28.192', '2022-07-10T15:30:53.933', '2022-07-10T15:30:53.933', '2022-07-10T15:30:53.933', '2022-07-10T15:30:53.933']\n"
     ]
    }
   ],
   "source": [
    "jwst_only = jwst_only[(jwst_only['instrument_name'] == 'NIRSPEC')]\n",
    "print(jwst_only['obsid','obs_id','t_min','t_exptime', 'calib_level', 'dataproduct_type'])\n",
    "\n",
    "# Note that t_min is in MJD - Modified Julian Day, a unit used in astronomy.\n",
    "from astropy.time import Time\n",
    "start_times = Time(jwst_only['t_min'], format='mjd')\n",
    "print('Human Readable t_min:')\n",
    "print([x.isot for x in start_times])"
   ]
  },
  {
   "cell_type": "markdown",
   "id": "bed015de-78e1-4701-adb5-a0c3b8bddfc8",
   "metadata": {},
   "source": [
    "### Interpreting MAST entries\n",
    "If we go to the MAST portal we can do the same filtering and see [these results in a UI](https://mast.stsci.edu/portal/Mashup/Clients/Mast/Portal.html?searchQuery=%7B%22service%22%3A%22CAOMDB%22%2C%22inputText%22%3A%22wasp-39b%22%2C%22paramsService%22%3A%22Mast.Caom.Cone%22%2C%22title%22%3A%22MAST%3A%20wasp-39b%22%2C%22columns%22%3A%22*%22%2C%22caomVersion%22%3Anull%7D).\n",
    "\n",
    "You can see that thre are 6 results. There are many columns of metadata, including things like the `s_ra` Right Ascension (RA) and `s_dec` Declination (DEC) values for WASP-39B, which is the coordinates of the observation- where to look in the sky to find the planet. Let's take a closer look at the metadata columns I pulled out above - `dataproduct_type`, `obs_id`, `t_min`, `t_exptime` and `calib_level`.\n",
    "\n",
    "First off, we are interested in spectrums, not images, so let's just look at those."
   ]
  },
  {
   "cell_type": "code",
   "execution_count": 30,
   "id": "620b0fa4-0801-4d99-a2d0-ed952deacc71",
   "metadata": {},
   "outputs": [
    {
     "name": "stdout",
     "output_type": "stream",
     "text": [
      " obsid                           obs_id                               t_min       t_exptime calib_level dataproduct_type\n",
      "-------- ------------------------------------------------------ ----------------- --------- ----------- ----------------\n",
      "87769481 jw01366-o003_t001_nirspec_f290lp-g395h-s1600a1-sub2048 59790.90101464306 29789.053           3         spectrum\n",
      "87625349   jw01366-o004_t001_nirspec_clear-prism-s1600a1-sub512 59770.62185407593  29614.96           3         spectrum\n"
     ]
    }
   ],
   "source": [
    "jwst_only = jwst_only[(jwst_only['dataproduct_type'] == 'spectrum')]\n",
    "print(jwst_only['obsid','obs_id','t_min','t_exptime', 'calib_level', 'dataproduct_type'])"
   ]
  },
  {
   "cell_type": "markdown",
   "id": "89d91ea2-fb45-47c6-abce-601f9da40d4a",
   "metadata": {},
   "source": [
    "#### Calibration Level\n",
    "`calib_level` denotes how \"raw\" the data is. STScI has its own [calibration pipeline](https://jwst-docs.stsci.edu/jwst-science-calibration-pipeline-overview), so you can get data from them totally raw (stage 0) or in a more refined state, it's worth poking around at the different types of data they output and what stages they are [here](https://jwst-pipeline.readthedocs.io/en/latest/jwst/data_products/product_types.ht), but in short the most raw data is the numbers directly output by the instruments, and the early stages calibrate the data and remove systematics. \n",
    "\n",
    "The two observations we kept have `calib_level` 3. One is from July 10th and one from July 30th, and they used the NIRSPEC instrument with different filters (hence the difference in their observation id names). Let's choose the earlier one - `jw01366-o004_t001_nirspec_clear-prism-s1600a1-sub512`:\n"
   ]
  },
  {
   "cell_type": "code",
   "execution_count": 31,
   "id": "f812d9ef-b18d-4038-9903-6232c4f93835",
   "metadata": {},
   "outputs": [
    {
     "name": "stdout",
     "output_type": "stream",
     "text": [
      " obsid                          obs_id                              t_min       t_exptime calib_level dataproduct_type\n",
      "-------- ---------------------------------------------------- ----------------- --------- ----------- ----------------\n",
      "87625349 jw01366-o004_t001_nirspec_clear-prism-s1600a1-sub512 59770.62185407593  29614.96           3         spectrum\n"
     ]
    }
   ],
   "source": [
    "jwst_only = jwst_only[(jwst_only['obs_id'] == 'jw01366-o004_t001_nirspec_clear-prism-s1600a1-sub512')]\n",
    "print(jwst_only['obsid','obs_id','t_min','t_exptime', 'calib_level', 'dataproduct_type'])"
   ]
  },
  {
   "cell_type": "markdown",
   "id": "0f68ccb1-2578-46d1-894f-400015c1377b",
   "metadata": {},
   "source": [
    "Unfortunately STScI doesn't process all the way through to exoplanet spectra, they [stop at `calib_level` 3](https://jwst-pipeline.readthedocs.io/en/latest/jwst/data_products/product_types.ht) data, which is still at the point of measuring the _host_ starlight over time.\n",
    "\n",
    "`Eureka!` also has stages of processing, and its first 3 mirror the first 3 stages of STScI's calibration pipeline. So theoretically you could take stage 0 NIRSPEC data and run it fully through `Eureka!`, or you could take stage 1 data and run it through steps 2 onward in `Eureka!`, and so on. At the moment, the highest level NIRSPEC data you can start off with in `Erueka!` is level 2, which you then feed into `Eureka!` level 3.\n",
    "\n",
    "That's annoying, as we can only see level 3 data here. Not to worry, STScI makes all levels of data available for the observations, but they are packaged as `data products` nested deeper in the database. Let's see what data products are available for our observation."
   ]
  },
  {
   "cell_type": "code",
   "execution_count": 33,
   "id": "bff8703e-0d9f-4768-9551-a28d203c2a9a",
   "metadata": {},
   "outputs": [
    {
     "name": "stdout",
     "output_type": "stream",
     "text": [
      "\n",
      " NIRSpec Observation of WASP-39 B: \n",
      "\n",
      "intentType obs_collection provenance_name instrument_name project filters ... dataRights mtFlag srcDen  obsid   distance\n",
      "---------- -------------- --------------- --------------- ------- ------- ... ---------- ------ ------ -------- --------\n",
      "   science           JWST         CALJWST         NIRSPEC    JWST   CLEAR ...     PUBLIC  False    nan 87625349      0.0\n",
      "\n",
      " Data Products: \n",
      "\n",
      " obsID   obs_collection dataproduct_type ... parent_obsid dataRights calib_level\n",
      "-------- -------------- ---------------- ... ------------ ---------- -----------\n",
      "87625349           JWST         spectrum ...     87625349     PUBLIC           3\n",
      "87625349           JWST         spectrum ...     87625349     PUBLIC           3\n",
      "87625349           JWST         spectrum ...     87625349     PUBLIC           3\n",
      "87625349           JWST         spectrum ...     87625349     PUBLIC           3\n",
      "87618704           JWST            image ...     87625349     PUBLIC           1\n",
      "87618704           JWST            image ...     87625349     PUBLIC           1\n",
      "87618704           JWST            image ...     87625349     PUBLIC           1\n",
      "87618704           JWST            image ...     87625349     PUBLIC           1\n",
      "87618704           JWST            image ...     87625349     PUBLIC           2\n",
      "87618704           JWST            image ...     87625349     PUBLIC           2\n",
      "87618704           JWST            image ...     87625349     PUBLIC           1\n",
      "87618704           JWST            image ...     87625349     PUBLIC           1\n",
      "87618704           JWST            image ...     87625349     PUBLIC           1\n",
      "87618704           JWST            image ...     87625349     PUBLIC           1\n",
      "87618704           JWST            image ...     87625349     PUBLIC           2\n",
      "87618704           JWST            image ...     87625349     PUBLIC           2\n",
      "87618704           JWST            image ...     87625349     PUBLIC           1\n",
      "     ...            ...              ... ...          ...        ...         ...\n",
      "87618562           JWST         spectrum ...     87625349     PUBLIC           2\n",
      "87618562           JWST         spectrum ...     87625349     PUBLIC           2\n",
      "87618562           JWST         spectrum ...     87625349     PUBLIC           2\n",
      "87618562           JWST         spectrum ...     87625349     PUBLIC           2\n",
      "87618562           JWST         spectrum ...     87625349     PUBLIC           2\n",
      "87618562           JWST         spectrum ...     87625349     PUBLIC           2\n",
      "87618562           JWST         spectrum ...     87625349     PUBLIC           2\n",
      "87618562           JWST         spectrum ...     87625349     PUBLIC           2\n",
      "87618562           JWST         spectrum ...     87625349     PUBLIC           2\n",
      "87618562           JWST         spectrum ...     87625349     PUBLIC           2\n",
      "87618562           JWST         spectrum ...     87625349     PUBLIC           2\n",
      "87618562           JWST         spectrum ...     87625349     PUBLIC           2\n",
      "87618562           JWST         spectrum ...     87625349     PUBLIC           2\n",
      "87618562           JWST         spectrum ...     87625349     PUBLIC           2\n",
      "87618562           JWST         spectrum ...     87625349     PUBLIC           2\n",
      "87618562           JWST         spectrum ...     87625349     PUBLIC           2\n",
      "87618562           JWST         spectrum ...     87625349     PUBLIC           2\n",
      "Length = 388 rows\n"
     ]
    }
   ],
   "source": [
    "# Filter down to just the observation we are interested in.\n",
    "obs_87625349 = jwst_only[(jwst_only['obsid'] == '87625349')]\n",
    "\n",
    "print(\"\\n NIRSpec Observation of WASP-39 B: \\n\")\n",
    "print(obs_87625349)\n",
    "\n",
    "# Get a list of the \"Data Products\" available from the observations.\n",
    "data_products = Observations.get_product_list(obs_87625349)\n",
    "print(\"\\n Data Products: \\n\")\n",
    "print(data_products)"
   ]
  },
  {
   "cell_type": "markdown",
   "id": "b53b02b2-095d-49ac-9d7b-6848b0cd8516",
   "metadata": {},
   "source": [
    "Yikes! As you can see there are lots of data products- some spectra, some images.\n",
    "\n",
    "We know we want spectra, and we also know we want `calib_level` 2 to feed to Eureka. Let's also filter down to 'SCIENCE' `productType`, because those have been \"certified\" as good to go for science uses (i.e. they have been calibrated and validated)."
   ]
  },
  {
   "cell_type": "code",
   "execution_count": 40,
   "id": "9cf6ba17-db7d-4e85-a29c-281121712180",
   "metadata": {},
   "outputs": [
    {
     "data": {
      "text/html": [
       "<div><i>Table masked=True length=20</i>\n",
       "<table id=\"table6125674112\" class=\"table-striped table-bordered table-condensed\">\n",
       "<thead><tr><th>obsID</th><th>obs_collection</th><th>dataproduct_type</th><th>obs_id</th><th>description</th><th>type</th><th>dataURI</th><th>productType</th><th>productGroupDescription</th><th>productSubGroupDescription</th><th>productDocumentationURL</th><th>project</th><th>prvversion</th><th>proposal_id</th><th>productFilename</th><th>size</th><th>parent_obsid</th><th>dataRights</th><th>calib_level</th></tr></thead>\n",
       "<thead><tr><th>str8</th><th>str4</th><th>str8</th><th>str52</th><th>str64</th><th>str1</th><th>str83</th><th>str9</th><th>str28</th><th>str13</th><th>str1</th><th>str7</th><th>str5</th><th>str4</th><th>str65</th><th>int64</th><th>str8</th><th>str6</th><th>int64</th></tr></thead>\n",
       "<tr><td>87618689</td><td>JWST</td><td>spectrum</td><td>jw01366004001_04101_00001-seg001_nrs1</td><td>exposure (L2c): 3D Calibrated data per integration</td><td>S</td><td>mast:JWST/product/jw01366004001_04101_00001-seg001_nrs1_o004_crfints.fits</td><td>SCIENCE</td><td>--</td><td>ANNNN_CRFINTS</td><td>--</td><td>CALJWST</td><td>1.5.3</td><td>1366</td><td>jw01366004001_04101_00001-seg001_nrs1_o004_crfints.fits</td><td>1623824640</td><td>87625349</td><td>PUBLIC</td><td>2</td></tr>\n",
       "<tr><td>87618689</td><td>JWST</td><td>spectrum</td><td>jw01366004001_04101_00001-seg001_nrs1</td><td>exposure (L2b): 3D calibrated exposure</td><td>S</td><td>mast:JWST/product/jw01366004001_04101_00001-seg001_nrs1_calints.fits</td><td>SCIENCE</td><td>--</td><td>CALINTS</td><td>--</td><td>CALJWST</td><td>1.5.3</td><td>1366</td><td>jw01366004001_04101_00001-seg001_nrs1_calints.fits</td><td>1623824640</td><td>87625349</td><td>PUBLIC</td><td>2</td></tr>\n",
       "<tr><td>87618689</td><td>JWST</td><td>spectrum</td><td>jw01366004001_04101_00001-seg001_nrs1</td><td>exposure (L2a): 2D count rate averaged over integrations</td><td>S</td><td>mast:JWST/product/jw01366004001_04101_00001-seg001_nrs1_rate.fits</td><td>SCIENCE</td><td>--</td><td>RATE</td><td>--</td><td>CALJWST</td><td>1.5.3</td><td>1366</td><td>jw01366004001_04101_00001-seg001_nrs1_rate.fits</td><td>380160</td><td>87625349</td><td>PUBLIC</td><td>2</td></tr>\n",
       "<tr><td>87618689</td><td>JWST</td><td>spectrum</td><td>jw01366004001_04101_00001-seg001_nrs1</td><td>exposure (L2a): 3D countrate per integration</td><td>S</td><td>mast:JWST/product/jw01366004001_04101_00001-seg001_nrs1_rateints.fits</td><td>SCIENCE</td><td>--</td><td>RATEINTS</td><td>--</td><td>CALJWST</td><td>1.5.3</td><td>1366</td><td>jw01366004001_04101_00001-seg001_nrs1_rateints.fits</td><td>1999221120</td><td>87625349</td><td>PUBLIC</td><td>2</td></tr>\n",
       "<tr><td>87618689</td><td>JWST</td><td>spectrum</td><td>jw01366004001_04101_00001-seg001_nrs1</td><td>exposure/target (L2b/L3): 1D extracted spectrum per integration</td><td>S</td><td>mast:JWST/product/jw01366004001_04101_00001-seg001_nrs1_x1dints.fits</td><td>SCIENCE</td><td>--</td><td>X1DINTS</td><td>--</td><td>CALJWST</td><td>1.5.3</td><td>1366</td><td>jw01366004001_04101_00001-seg001_nrs1_x1dints.fits</td><td>484591680</td><td>87625349</td><td>PUBLIC</td><td>2</td></tr>\n",
       "<tr><td>87618646</td><td>JWST</td><td>spectrum</td><td>jw01366004001_04101_00001-seg002_nrs1</td><td>exposure (L2c): 3D Calibrated data per integration</td><td>S</td><td>mast:JWST/product/jw01366004001_04101_00001-seg002_nrs1_o004_crfints.fits</td><td>SCIENCE</td><td>--</td><td>ANNNN_CRFINTS</td><td>--</td><td>CALJWST</td><td>1.5.3</td><td>1366</td><td>jw01366004001_04101_00001-seg002_nrs1_o004_crfints.fits</td><td>1623824640</td><td>87625349</td><td>PUBLIC</td><td>2</td></tr>\n",
       "<tr><td>87618646</td><td>JWST</td><td>spectrum</td><td>jw01366004001_04101_00001-seg002_nrs1</td><td>exposure (L2b): 3D calibrated exposure</td><td>S</td><td>mast:JWST/product/jw01366004001_04101_00001-seg002_nrs1_calints.fits</td><td>SCIENCE</td><td>--</td><td>CALINTS</td><td>--</td><td>CALJWST</td><td>1.5.3</td><td>1366</td><td>jw01366004001_04101_00001-seg002_nrs1_calints.fits</td><td>1623824640</td><td>87625349</td><td>PUBLIC</td><td>2</td></tr>\n",
       "<tr><td>87618646</td><td>JWST</td><td>spectrum</td><td>jw01366004001_04101_00001-seg002_nrs1</td><td>exposure (L2a): 2D count rate averaged over integrations</td><td>S</td><td>mast:JWST/product/jw01366004001_04101_00001-seg002_nrs1_rate.fits</td><td>SCIENCE</td><td>--</td><td>RATE</td><td>--</td><td>CALJWST</td><td>1.5.3</td><td>1366</td><td>jw01366004001_04101_00001-seg002_nrs1_rate.fits</td><td>380160</td><td>87625349</td><td>PUBLIC</td><td>2</td></tr>\n",
       "<tr><td>87618646</td><td>JWST</td><td>spectrum</td><td>jw01366004001_04101_00001-seg002_nrs1</td><td>exposure (L2a): 3D countrate per integration</td><td>S</td><td>mast:JWST/product/jw01366004001_04101_00001-seg002_nrs1_rateints.fits</td><td>SCIENCE</td><td>--</td><td>RATEINTS</td><td>--</td><td>CALJWST</td><td>1.5.3</td><td>1366</td><td>jw01366004001_04101_00001-seg002_nrs1_rateints.fits</td><td>1999221120</td><td>87625349</td><td>PUBLIC</td><td>2</td></tr>\n",
       "<tr><td>87618646</td><td>JWST</td><td>spectrum</td><td>jw01366004001_04101_00001-seg002_nrs1</td><td>exposure/target (L2b/L3): 1D extracted spectrum per integration</td><td>S</td><td>mast:JWST/product/jw01366004001_04101_00001-seg002_nrs1_x1dints.fits</td><td>SCIENCE</td><td>--</td><td>X1DINTS</td><td>--</td><td>CALJWST</td><td>1.5.3</td><td>1366</td><td>jw01366004001_04101_00001-seg002_nrs1_x1dints.fits</td><td>484594560</td><td>87625349</td><td>PUBLIC</td><td>2</td></tr>\n",
       "<tr><td>87618597</td><td>JWST</td><td>spectrum</td><td>jw01366004001_04101_00001-seg003_nrs1</td><td>exposure (L2c): 3D Calibrated data per integration</td><td>S</td><td>mast:JWST/product/jw01366004001_04101_00001-seg003_nrs1_o004_crfints.fits</td><td>SCIENCE</td><td>--</td><td>ANNNN_CRFINTS</td><td>--</td><td>CALJWST</td><td>1.5.3</td><td>1366</td><td>jw01366004001_04101_00001-seg003_nrs1_o004_crfints.fits</td><td>1623824640</td><td>87625349</td><td>PUBLIC</td><td>2</td></tr>\n",
       "<tr><td>87618597</td><td>JWST</td><td>spectrum</td><td>jw01366004001_04101_00001-seg003_nrs1</td><td>exposure (L2b): 3D calibrated exposure</td><td>S</td><td>mast:JWST/product/jw01366004001_04101_00001-seg003_nrs1_calints.fits</td><td>SCIENCE</td><td>--</td><td>CALINTS</td><td>--</td><td>CALJWST</td><td>1.5.3</td><td>1366</td><td>jw01366004001_04101_00001-seg003_nrs1_calints.fits</td><td>1623824640</td><td>87625349</td><td>PUBLIC</td><td>2</td></tr>\n",
       "<tr><td>87618597</td><td>JWST</td><td>spectrum</td><td>jw01366004001_04101_00001-seg003_nrs1</td><td>exposure (L2a): 2D count rate averaged over integrations</td><td>S</td><td>mast:JWST/product/jw01366004001_04101_00001-seg003_nrs1_rate.fits</td><td>SCIENCE</td><td>--</td><td>RATE</td><td>--</td><td>CALJWST</td><td>1.5.3</td><td>1366</td><td>jw01366004001_04101_00001-seg003_nrs1_rate.fits</td><td>380160</td><td>87625349</td><td>PUBLIC</td><td>2</td></tr>\n",
       "<tr><td>87618597</td><td>JWST</td><td>spectrum</td><td>jw01366004001_04101_00001-seg003_nrs1</td><td>exposure (L2a): 3D countrate per integration</td><td>S</td><td>mast:JWST/product/jw01366004001_04101_00001-seg003_nrs1_rateints.fits</td><td>SCIENCE</td><td>--</td><td>RATEINTS</td><td>--</td><td>CALJWST</td><td>1.5.3</td><td>1366</td><td>jw01366004001_04101_00001-seg003_nrs1_rateints.fits</td><td>1999221120</td><td>87625349</td><td>PUBLIC</td><td>2</td></tr>\n",
       "<tr><td>87618597</td><td>JWST</td><td>spectrum</td><td>jw01366004001_04101_00001-seg003_nrs1</td><td>exposure/target (L2b/L3): 1D extracted spectrum per integration</td><td>S</td><td>mast:JWST/product/jw01366004001_04101_00001-seg003_nrs1_x1dints.fits</td><td>SCIENCE</td><td>--</td><td>X1DINTS</td><td>--</td><td>CALJWST</td><td>1.5.3</td><td>1366</td><td>jw01366004001_04101_00001-seg003_nrs1_x1dints.fits</td><td>484597440</td><td>87625349</td><td>PUBLIC</td><td>2</td></tr>\n",
       "<tr><td>87618562</td><td>JWST</td><td>spectrum</td><td>jw01366004001_04101_00001-seg004_nrs1</td><td>exposure (L2c): 3D Calibrated data per integration</td><td>S</td><td>mast:JWST/product/jw01366004001_04101_00001-seg004_nrs1_o004_crfints.fits</td><td>SCIENCE</td><td>--</td><td>ANNNN_CRFINTS</td><td>--</td><td>CALJWST</td><td>1.5.3</td><td>1366</td><td>jw01366004001_04101_00001-seg004_nrs1_o004_crfints.fits</td><td>851947200</td><td>87625349</td><td>PUBLIC</td><td>2</td></tr>\n",
       "<tr><td>87618562</td><td>JWST</td><td>spectrum</td><td>jw01366004001_04101_00001-seg004_nrs1</td><td>exposure (L2b): 3D calibrated exposure</td><td>S</td><td>mast:JWST/product/jw01366004001_04101_00001-seg004_nrs1_calints.fits</td><td>SCIENCE</td><td>--</td><td>CALINTS</td><td>--</td><td>CALJWST</td><td>1.5.3</td><td>1366</td><td>jw01366004001_04101_00001-seg004_nrs1_calints.fits</td><td>851947200</td><td>87625349</td><td>PUBLIC</td><td>2</td></tr>\n",
       "<tr><td>87618562</td><td>JWST</td><td>spectrum</td><td>jw01366004001_04101_00001-seg004_nrs1</td><td>exposure (L2a): 2D count rate averaged over integrations</td><td>S</td><td>mast:JWST/product/jw01366004001_04101_00001-seg004_nrs1_rate.fits</td><td>SCIENCE</td><td>--</td><td>RATE</td><td>--</td><td>CALJWST</td><td>1.5.3</td><td>1366</td><td>jw01366004001_04101_00001-seg004_nrs1_rate.fits</td><td>380160</td><td>87625349</td><td>PUBLIC</td><td>2</td></tr>\n",
       "<tr><td>87618562</td><td>JWST</td><td>spectrum</td><td>jw01366004001_04101_00001-seg004_nrs1</td><td>exposure (L2a): 3D countrate per integration</td><td>S</td><td>mast:JWST/product/jw01366004001_04101_00001-seg004_nrs1_rateints.fits</td><td>SCIENCE</td><td>--</td><td>RATEINTS</td><td>--</td><td>CALJWST</td><td>1.5.3</td><td>1366</td><td>jw01366004001_04101_00001-seg004_nrs1_rateints.fits</td><td>1048798080</td><td>87625349</td><td>PUBLIC</td><td>2</td></tr>\n",
       "<tr><td>87618562</td><td>JWST</td><td>spectrum</td><td>jw01366004001_04101_00001-seg004_nrs1</td><td>exposure/target (L2b/L3): 1D extracted spectrum per integration</td><td>S</td><td>mast:JWST/product/jw01366004001_04101_00001-seg004_nrs1_x1dints.fits</td><td>SCIENCE</td><td>--</td><td>X1DINTS</td><td>--</td><td>CALJWST</td><td>1.5.3</td><td>1366</td><td>jw01366004001_04101_00001-seg004_nrs1_x1dints.fits</td><td>254229120</td><td>87625349</td><td>PUBLIC</td><td>2</td></tr>\n",
       "</table></div>"
      ],
      "text/plain": [
       "<Table masked=True length=20>\n",
       " obsID   obs_collection dataproduct_type                 obs_id                ... parent_obsid dataRights calib_level\n",
       "  str8        str4            str8                       str52                 ...     str8        str6       int64   \n",
       "-------- -------------- ---------------- ------------------------------------- ... ------------ ---------- -----------\n",
       "87618689           JWST         spectrum jw01366004001_04101_00001-seg001_nrs1 ...     87625349     PUBLIC           2\n",
       "87618689           JWST         spectrum jw01366004001_04101_00001-seg001_nrs1 ...     87625349     PUBLIC           2\n",
       "87618689           JWST         spectrum jw01366004001_04101_00001-seg001_nrs1 ...     87625349     PUBLIC           2\n",
       "87618689           JWST         spectrum jw01366004001_04101_00001-seg001_nrs1 ...     87625349     PUBLIC           2\n",
       "87618689           JWST         spectrum jw01366004001_04101_00001-seg001_nrs1 ...     87625349     PUBLIC           2\n",
       "87618646           JWST         spectrum jw01366004001_04101_00001-seg002_nrs1 ...     87625349     PUBLIC           2\n",
       "87618646           JWST         spectrum jw01366004001_04101_00001-seg002_nrs1 ...     87625349     PUBLIC           2\n",
       "87618646           JWST         spectrum jw01366004001_04101_00001-seg002_nrs1 ...     87625349     PUBLIC           2\n",
       "87618646           JWST         spectrum jw01366004001_04101_00001-seg002_nrs1 ...     87625349     PUBLIC           2\n",
       "87618646           JWST         spectrum jw01366004001_04101_00001-seg002_nrs1 ...     87625349     PUBLIC           2\n",
       "87618597           JWST         spectrum jw01366004001_04101_00001-seg003_nrs1 ...     87625349     PUBLIC           2\n",
       "87618597           JWST         spectrum jw01366004001_04101_00001-seg003_nrs1 ...     87625349     PUBLIC           2\n",
       "87618597           JWST         spectrum jw01366004001_04101_00001-seg003_nrs1 ...     87625349     PUBLIC           2\n",
       "87618597           JWST         spectrum jw01366004001_04101_00001-seg003_nrs1 ...     87625349     PUBLIC           2\n",
       "87618597           JWST         spectrum jw01366004001_04101_00001-seg003_nrs1 ...     87625349     PUBLIC           2\n",
       "87618562           JWST         spectrum jw01366004001_04101_00001-seg004_nrs1 ...     87625349     PUBLIC           2\n",
       "87618562           JWST         spectrum jw01366004001_04101_00001-seg004_nrs1 ...     87625349     PUBLIC           2\n",
       "87618562           JWST         spectrum jw01366004001_04101_00001-seg004_nrs1 ...     87625349     PUBLIC           2\n",
       "87618562           JWST         spectrum jw01366004001_04101_00001-seg004_nrs1 ...     87625349     PUBLIC           2\n",
       "87618562           JWST         spectrum jw01366004001_04101_00001-seg004_nrs1 ...     87625349     PUBLIC           2"
      ]
     },
     "execution_count": 40,
     "metadata": {},
     "output_type": "execute_result"
    }
   ],
   "source": [
    "obs_87625349_products = data_products[((data_products['dataproduct_type'] == 'spectrum')) &\n",
    "                      (data_products['calib_level'] == 2) & \n",
    "                      (data_products['productType'] == 'SCIENCE')]\n",
    "obs_87625349_products"
   ]
  },
  {
   "cell_type": "markdown",
   "id": "fed641b1-5272-4dea-bdd7-26562b659f2c",
   "metadata": {},
   "source": [
    "Ok, this is still a lot of data, but now it's managable. We can see here that we only have 4 different `obs_id`, with the only difference being seg001 -> seg004.\n",
    "\n",
    "This is because there is a _tonne_ of data here, and it is broken into \"segments\" so you can download it in managable (but still 2 Gigabyte!) chunks. The segments are chronological, so the first segment will be some data where the planet isn't in front of the star yet, etc.\n",
    "\n",
    "Within the same `obs_id` you can see they are differentiated by `dataURI`. These are different types of files - you can see `rateints`, `rate`, `x1dints`, `calints` and `cfrints`. They are all `.fits` files, which is a common filetype in astronomy. The different types are different data product types, like you would have seen in the [docs earlier](https://jwst-pipeline.readthedocs.io/en/latest/jwst/data_products/product_types.ht) and can read more about if you like. \n",
    "\n",
    "`Eureka!` uses these files as input to its 3rd stage."
   ]
  },
  {
   "cell_type": "markdown",
   "id": "083ae1a7-71f6-415b-9297-bd32f51e18c4",
   "metadata": {},
   "source": [
    "#### STOP!!!\n",
    "Here's where you can download this data (I've put the code - commented out - below). This is, and I cannot stress this enough, a _lot_ of data. Only do this if you actively want to try your hand at running this `Eureka!` pipeline yourself."
   ]
  },
  {
   "cell_type": "code",
   "execution_count": 41,
   "id": "e4216d05-ff11-4b9f-8c02-d63c3432e14d",
   "metadata": {},
   "outputs": [],
   "source": [
    "# ONLY UNCOMMENT AND RUN THIS IF YOU WANT TO DOWNLOAD ALL THE RAW DATA!\n",
    "# manifest = Observations.download_products(obs_87625349_products)\n",
    "# manifest"
   ]
  },
  {
   "cell_type": "markdown",
   "id": "e50200c5-1666-4549-af20-5949bdbef862",
   "metadata": {},
   "source": [
    "# 4. Eureka!\n",
    "\n",
    "If you downloaded the raw data, you now almost have level 2 JWST data ready to pipe into stage 3 of `Eureka!`. I'll give you some pointers and example code on how to do that, but if you aren't doing your own processing of the raw data, this code won't do anything/work.\n",
    "\n",
    "Note that if you want the full transit, you'll have to combine the data from the 4 segments. You can do this with a python script. You can also run the pipeline with just one segment to check it is all working before you concatenate all the data together.\n",
    "\n",
    "I've cleared the output from the cells below because there's a lot of it.\n",
    "\n",
    "#### Quickstart\n",
    "\n",
    "Lucky for you, `Eureka!`'s [quickstart guide](https://eurekadocs.readthedocs.io/en/latest/quickstart.html) uses WASP-39B as an example! This is great, because it means that the configuration files `Eureka!` uses to set parameters are all supposedly already tuned to WASP-39B.\n",
    "\n",
    "You can follow the quickstart directly, but note the following:\n",
    "\n",
    "  - In Step 2 (Download the Data), you've already done that, you'll just need to link Eureka to your download directory when they tell you to set the `inputdir` in your S3_wasp39b.ecf file.\n",
    "  - Their quickstart starts with Stage 2 eureka, using Stage 1 JWST output. You're using Stage 2 output, so you can skip all the Stage 2 stuff they do (like configuring the S2_\\*.ecf file)\n",
    "  \n",
    "Once you've configured your .ecf and .epf files, you can use the code below to run Eureka stages 3 - 6. Note that it will save output in your working directory as well as displaying it in here."
   ]
  },
  {
   "cell_type": "code",
   "execution_count": 43,
   "id": "bb01bedd-977e-4f25-91b9-b2df4a2a6dc1",
   "metadata": {},
   "outputs": [
    {
     "name": "stdout",
     "output_type": "stream",
     "text": [
      "Found:  /Users/kappi/crds_cache\n"
     ]
    }
   ],
   "source": [
    "# Eureka Imports and Set Up\n",
    "import sys\n",
    "import os\n",
    "import eureka.lib.plots\n",
    "import time as time_pkg\n",
    "from eureka.lib import readECF\n",
    "from eureka.lib import util\n",
    "import eureka.S3_data_reduction.s3_reduce as s3\n",
    "import eureka.S4_generate_lightcurves.s4_genLC as s4\n",
    "import eureka.S5_lightcurve_fitting.s5_fit as s5\n",
    "import eureka.S6_planet_spectra.s6_spectra as s6\n",
    "\n",
    "# Set eventlabel to the common string we added to all the filenames.\n",
    "eventlabel = 'wasp39b'\n",
    "\n",
    "# Tell eureka to look in the current working directory for the ecf files.\n",
    "import os\n",
    "ecf_path = '.'+os.sep\n",
    "\n",
    "# Set up some parameters to make plots look nicer.\n",
    "# You can set usetex=True if you have LaTeX installed\n",
    "eureka.lib.plots.set_rc(style='eureka', usetex=False, filetype='.png')\n",
    "\n",
    "# Make sure you have the correct Eureka variable set.\n",
    "if \"CRDS_PATH\" in os.environ:\n",
    "    print(\"Found: \", os.getenv(\"CRDS_PATH\"))"
   ]
  },
  {
   "cell_type": "markdown",
   "id": "b09645e1-2ec4-4f4b-99d2-4447677fbd87",
   "metadata": {},
   "source": [
    "#### Stage 3\n",
    "\"Using Stage 2 outputs, performs background subtraction and optimal spectral extraction. For spectroscopic observations, this stage generates a time series of 1D spectra. For photometric observations, this stage generates a single light curve of flux versus time.\""
   ]
  },
  {
   "cell_type": "code",
   "execution_count": null,
   "id": "955e10ea-118f-4a5a-811f-ebe58ac3f218",
   "metadata": {},
   "outputs": [],
   "source": [
    "s3_spec, s3_meta = s3.reduce(eventlabel, ecf_path=ecf_path)"
   ]
  },
  {
   "cell_type": "markdown",
   "id": "f5e0920f-71ae-4f5a-be17-547209b33f23",
   "metadata": {},
   "source": [
    "#### Stage 4\n",
    "\"Using Stage 3 outputs, generates spectroscopic light curves by binning the time series of 1D spectra along the wavelength axis. Optionally removes drift/jitter along the dispersion direction and/or sigma clips outliers.\""
   ]
  },
  {
   "cell_type": "code",
   "execution_count": null,
   "id": "13a6a7d5-19c6-46af-8080-4cb03173c476",
   "metadata": {},
   "outputs": [],
   "source": [
    "s4_spec, s4_lc, s4_meta = s4.genlc(eventlabel, ecf_path=ecf_path)"
   ]
  },
  {
   "cell_type": "markdown",
   "id": "62f2d978-85aa-4db7-8024-dacdbbac2a33",
   "metadata": {},
   "source": [
    "#### Stage 5\n",
    "Fits the light curves with noise and astrophysical models using different optimization or sampling algorithms."
   ]
  },
  {
   "cell_type": "code",
   "execution_count": null,
   "id": "aab0a026-0aba-4691-8fbc-8d16c9fc70ca",
   "metadata": {},
   "outputs": [],
   "source": [
    "s5_meta = s5.fitlc(eventlabel, ecf_path=ecf_path)"
   ]
  },
  {
   "cell_type": "markdown",
   "id": "81cb760d-5064-455b-9716-5f89c40791eb",
   "metadata": {},
   "source": [
    "#### Stage 6\n",
    "\"Displays the planet spectrum in figure and table form using results from the Stage 5 fits.\""
   ]
  },
  {
   "cell_type": "code",
   "execution_count": null,
   "id": "bca8671d-11f2-4dc2-baf8-4e2efbc1f019",
   "metadata": {},
   "outputs": [],
   "source": [
    "s6_meta = s6.plot_spectra(eventlabel, ecf_path=ecf_path)"
   ]
  },
  {
   "cell_type": "markdown",
   "id": "32fa965b-725d-4c45-9af1-e95de333654c",
   "metadata": {},
   "source": [
    "I hope this was helpful and you managed to process your raw data all the way through to an exoplanet spectrum! For the rest of us, let's cheat a bit and download the processed spectra data used in the [CO2 paper](https://arxiv.org/pdf/2208.11692.pdf) from zenodo :)"
   ]
  },
  {
   "cell_type": "markdown",
   "id": "3bf027b4-12cd-4def-a67f-72535e238265",
   "metadata": {},
   "source": [
    "# 5. Grabbing Processed Spectra from Zenodo\n",
    "\n",
    "Here's where we let the experts do the data processing, and download and display their finished spectra, which we will use in the next tutorial to match our exoplanet models to.\n",
    "\n",
    "At the top of page 19 in [the paper that confirmed CO2 on WASP-39B](https://arxiv.org/pdf/2208.11692.pdf) they say \"All the data and models presented in this publication can be found at\n",
    "[https://doi.10.5281/zenodo.6959427](https://doi.10.5281/zenodo.6959427)\". That link doesn't work, but this one does: https://zenodo.org/record/6959427#.YxvFNuzMJqu.\n",
    "\n",
    "You should see `EUREKA_REDUCTION.txt` as one of the files listed. Download the .zip and have a look for it at the path `ZENODO/TRANSMISSION_SPECTRA_DATA/EUREKA_REDUCTION.txt`."
   ]
  },
  {
   "cell_type": "code",
   "execution_count": 56,
   "id": "2a5d1fb6-601f-4ee1-aada-a8bf565ce53e",
   "metadata": {},
   "outputs": [],
   "source": [
    "from astropy.io import ascii\n",
    "# This will work if you are using conda and put the downloaded folder in your current env top folder. Feel\n",
    "# free to change this if you used a different system.\n",
    "eureka_reduction_path = os.getenv(\"CONDA_PREFIX\") + '/ZENODO/TRANSMISSION_SPECTRA_DATA/EUREKA_REDUCTION.txt'\n",
    "data = ascii.read(eureka_reduction_path)"
   ]
  },
  {
   "cell_type": "code",
   "execution_count": 58,
   "id": "33c21b9b-4694-43d5-8f72-e3bc46d2bf5d",
   "metadata": {},
   "outputs": [
    {
     "data": {
      "text/plain": [
       "['wavelength',\n",
       " 'bin_width',\n",
       " 'tr_depth',\n",
       " 'tr_depth_errneg',\n",
       " 'tr_depth_errpos',\n",
       " 'ecl_depth',\n",
       " 'ecl_depth_errneg',\n",
       " 'ecl_depth_errpos']"
      ]
     },
     "execution_count": 58,
     "metadata": {},
     "output_type": "execute_result"
    }
   ],
   "source": [
    "data.colnames"
   ]
  },
  {
   "cell_type": "markdown",
   "id": "076ccb07-2020-4eb7-87d3-4ad9cff87001",
   "metadata": {},
   "source": [
    "Cool! `tr_depth` is \"transit depth\" which is how much light was blocked. Let's plot it."
   ]
  },
  {
   "cell_type": "code",
   "execution_count": 76,
   "id": "f4304903-1ee6-4e01-99f4-a7ebfe6a28ac",
   "metadata": {},
   "outputs": [
    {
     "data": {
      "image/png": "[encoded data removed]",
      "text/plain": [
       "<Figure size 1200x400 with 1 Axes>"
      ]
     },
     "metadata": {},
     "output_type": "display_data"
    }
   ],
   "source": [
    "import matplotlib.pyplot as plt\n",
    "\n",
    "plt.figure(figsize=(12,4))\n",
    "plt.errorbar(data['wavelength'], data['tr_depth'], [data['tr_depth_errneg'], data['tr_depth_errpos']],fmt='o')\n",
    "plt.yscale('log')\n",
    "plt.ylabel('Transit Depth')\n",
    "plt.xlabel('Wavelength (micrometers)')\n",
    "plt.show()"
   ]
  },
  {
   "cell_type": "markdown",
   "id": "9baeb576-50d4-4ec9-89e8-aefb6bc70929",
   "metadata": {},
   "source": [
    "Yay! There's our spectrum, with the telltale CO2 spike between 4.0 and 4.5 microns. In the next tutorial we will use this and try to get a model to fit it. Let's see what NASA published, to sanity check what we have:\n",
    "\n",
    "<img src=\"https://drive.google.com/uc?id=1ekTkENEFgAJV5PyTw2_AQKPm-fCJizGq\"></img>"
   ]
  }
 ],
 "metadata": {
  "kernelspec": {
   "display_name": "Python 3",
   "language": "python",
   "name": "python3"
  },
  "language_info": {
   "codemirror_mode": {
    "name": "ipython",
    "version": 3
   },
   "file_extension": ".py",
   "mimetype": "text/x-python",
   "name": "python",
   "nbconvert_exporter": "python",
   "pygments_lexer": "ipython3",
   "version": "3.8.13"
  }
 },
 "nbformat": 4,
 "nbformat_minor": 5
}
