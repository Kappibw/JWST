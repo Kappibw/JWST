{
 "cells": [
  {
   "cell_type": "markdown",
   "id": "3a4c82fc-48c2-449c-a1b4-12b207c31899",
   "metadata": {},
   "source": [
    "# Accessing James Webb Space Telescope Data\n",
    "## Who is this tutorial for?\n",
    "\n",
    "People that\n",
    "- Have some programming know-how (basic python is fine!)\n",
    "- *Don't* necessarily have an education/ experience in astronomy/astrophysics\n",
    "- Are excited about JWST's potential to tell us about planets outside our solar system!\n",
    "\n",
    "## What does this tutorial cover?\n",
    "\n",
    "A concrete walk-through of getting real JWST data and displaying it.\n",
    "- How to retrieve real JWST data\n",
    "- Understanding what the data contains\n",
    "- Displaying the data from the Southern Ring nebula, from the [first images](https://www.nasa.gov/webbfirstimages) released from JWST.\n",
    "\n",
    "## Of Note\n",
    "\n",
    "The [official JWST docs](https://jwst-docs.stsci.edu/) are great, they are mostly where I got the information I needed to compile this guide."
   ]
  },
  {
   "cell_type": "markdown",
   "id": "8147b8ef-a8ea-41a5-a4fe-4b59e264033e",
   "metadata": {},
   "source": [
    "# 1. Set Up\n",
    "\n",
    "## Jupyter\n",
    "First, in order to follow along with this tutorial in place, you will need to be able to run Jupyter notebooks (install from [here](https://jupyter.org/install)). Then you can download this notebook from git and open it in Jupyter."
   ]
  },
  {
   "cell_type": "code",
   "execution_count": 100,
   "id": "57b51771-1568-45b1-91c4-535369b7e904",
   "metadata": {},
   "outputs": [
    {
     "name": "stdout",
     "output_type": "stream",
     "text": [
      "hello JWST!\n"
     ]
    }
   ],
   "source": [
    "#run this cell in place once you have Juypyter up and running.\n",
    "print(\"hello JWST!\")"
   ]
  },
  {
   "cell_type": "markdown",
   "id": "5141c648-ef85-49ea-96b7-9d6ffb24e324",
   "metadata": {},
   "source": [
    "## Astroquery\n",
    "Now, you'll need python packages that are specifically used by astronomers. We will use the library astroquery, which is affiliated with the astropy project, and makes programatically accessing archives of astronomical data straightforward.\n",
    "\n",
    "__Note:__ I sometimes get timeout errors using astroquery, and re-running seems to clear them.\n",
    "\n",
    "1. Install astropy from the instructions [here](https://docs.astropy.org/en/stable/install.html).\n",
    "2. Install the astroquery library from the instructions [here](https://astroquery.readthedocs.io/en/latest/#installation)."
   ]
  },
  {
   "cell_type": "code",
   "execution_count": 21,
   "id": "96d0a286-7bea-4793-ab38-4fd9cf8cd569",
   "metadata": {},
   "outputs": [],
   "source": [
    "# Check we can load astroquery packages, that we will use later.\n",
    "from astropy.io import fits\n",
    "from astroquery.mast import Observations"
   ]
  },
  {
   "cell_type": "markdown",
   "id": "e61dcb13-143d-4e88-a9f0-9fb9978168b5",
   "metadata": {},
   "source": [
    "## JWST Data\n",
    "\n",
    "JWST data is made available via the Mikulski Archive for Space Telescopes (MAST). This is a huge archive of astronomical data from lots of different missions including Hubble, TESS and Kepler, and is named for [Barabara Mikulski](https://en.wikipedia.org/wiki/Barbara_Mikulski), as US senator who was a big supporter of Hubble and Webb. \n",
    "\n",
    "There are several ways to access the data it stores: via the API, bulk AWS download scripts, or you can look at the online portal. For starters, let's search for the Southern Ring planetary nebula observed in JWST's [first images](https://www.nasa.gov/image-feature/goddard/2022/nasa-s-webb-captures-dying-star-s-final-performance-in-fine-detail) in the online portal.\n",
    "\n",
    "1. Sign up for a MAST portal account (Managed by the Space Telescope Science Institude and called \"My Space Telescope\" - MyST) [here](https://proper.stsci.edu/proper/authentication/auth).\n",
    "2. Go to the [oline portal](https://mast.stsci.edu/portal/Mashup/Clients/Mast/Portal.html) and search for \"NGC 3132\", which is the object name of the Southern Ring nebula (I just [googled \"southern ring nebula object name\"](https://www.google.com/search?q=southern+ring+nebula+object+name&rlz=1C5CHFA_enUS999US999&oq=southern+ring+nebula+object+name&aqs=chrome..69i57j33i160.5343j0j7&sourceid=chrome&ie=UTF-8) to find this).\n",
    "3. Filter by mission in the left sidebar to JWST and you should see 6 NIRCAM observations from June 3 2022, and 4 MIRI observations from June 12 2022. The NIRCAM observations created the image on the left of the [First Images page](https://www.nasa.gov/image-feature/goddard/2022/nasa-s-webb-captures-dying-star-s-final-performance-in-fine-detail), and the MIRI observations created the image on the right.\n",
    "\n",
    "### Programatic Access\n",
    "\n",
    "Now we see where the observations live via the UI, lets check we can also access them via our python tools.\n",
    "\n",
    "1. Test that we can talk to MAST via Astroquery below."
   ]
  },
  {
   "cell_type": "code",
   "execution_count": 101,
   "id": "7af22e83-de7b-4a0f-925a-c937872276e4",
   "metadata": {},
   "outputs": [
    {
     "name": "stdout",
     "output_type": "stream",
     "text": [
      "Number of results from all missions: 254\n",
      "intentType obs_collection provenance_name instrument_name ... mtFlag srcDen  obsid        distance     \n",
      "---------- -------------- --------------- --------------- ... ------ ------ -------- ------------------\n",
      "   science          WUPPE              --   ASTRO-2 WUPPE ...     -- 5885.0   389320 1.2211685896009923\n",
      "   science           TESS            SPOC      Photometer ...  False    nan 62894034                0.0\n",
      "   science           TESS            SPOC      Photometer ...  False    nan 60827609                0.0\n",
      "   science    SPITZER_SHA    SSC Pipeline            IRAC ...  False    nan  1748827                0.0\n",
      "   science    SPITZER_SHA    SSC Pipeline            IRAC ...  False    nan  1748827                0.0\n",
      "   science    SPITZER_SHA    SSC Pipeline            IRAC ...  False    nan  1748827                0.0\n",
      "   science    SPITZER_SHA    SSC Pipeline            IRAC ...  False    nan  1748827                0.0\n",
      "   science    SPITZER_SHA    SSC Pipeline             IRS ...  False    nan  1697393                0.0\n",
      "   science    SPITZER_SHA    SSC Pipeline             IRS ...  False    nan  1697393                0.0\n",
      "   science    SPITZER_SHA    SSC Pipeline             IRS ...  False    nan  1697393                0.0\n",
      "\n",
      "\n",
      " JWST results only \n",
      "\n",
      "intentType obs_collection provenance_name instrument_name project ... mtFlag srcDen  obsid   distance\n",
      "---------- -------------- --------------- --------------- ------- ... ------ ------ -------- --------\n",
      "   science           JWST         CALJWST          NIRCAM    JWST ...  False    nan 87602454      0.0\n",
      "   science           JWST         CALJWST          NIRCAM    JWST ...  False    nan 87602522      0.0\n",
      "   science           JWST         CALJWST          NIRCAM    JWST ...  False    nan 87602523      0.0\n",
      "   science           JWST         CALJWST          NIRCAM    JWST ...  False    nan 87602457      0.0\n",
      "   science           JWST         CALJWST          NIRCAM    JWST ...  False    nan 87602459      0.0\n",
      "   science           JWST         CALJWST          NIRCAM    JWST ...  False    nan 87602464      0.0\n",
      "   science           JWST         CALJWST            MIRI    JWST ...  False    nan 87602450      0.0\n",
      "   science           JWST         CALJWST            MIRI    JWST ...  False    nan 87602461      0.0\n",
      "   science           JWST         CALJWST            MIRI    JWST ...  False    nan 87602456      0.0\n",
      "   science           JWST         CALJWST            MIRI    JWST ...  False    nan 87602452      0.0\n"
     ]
    }
   ],
   "source": [
    "# Limit our query to NGC 3132\n",
    "obsByName = Observations.query_object(\"NGC 3132\",radius=\".02 deg\")\n",
    "print(\"Number of results from all missions:\",len(obsByName))\n",
    "print(obsByName[:10])\n",
    "\n",
    "# See if you can see any observations by JWST!\n",
    "jwst_only = obsByName[(obsByName['obs_collection'] == 'JWST')]\n",
    "print(\"\\n\\n JWST results only \\n\")\n",
    "print(jwst_only)"
   ]
  },
  {
   "cell_type": "markdown",
   "id": "4e1287b4-bda0-4343-be7b-12f0bd149ad4",
   "metadata": {},
   "source": [
    "# 2. Downloading Data\n",
    "\n",
    "## Choosing an Observation\n",
    "Let's concentrate on the NIRCAM observations, just because I think the image is prettier. Each observation is made up of \"data products\", which we can list and have a look at in a moment.\n",
    "\n",
    "Let's start by looking at the available fields in our dataset, using the <code>.keys()</code> method, in order to choose which observation to use. Of interest is that there's an <code>obs_id</code> and an <code>obsid</code>, one of which is a more human readable id than the other, but both function as unique ids."
   ]
  },
  {
   "cell_type": "code",
   "execution_count": 12,
   "id": "8b884693-b56c-438b-b305-d99ee7f01d48",
   "metadata": {},
   "outputs": [
    {
     "name": "stdout",
     "output_type": "stream",
     "text": [
      "['intentType', 'obs_collection', 'provenance_name', 'instrument_name', 'project', 'filters', 'wavelength_region', 'target_name', 'target_classification', 'obs_id', 's_ra', 's_dec', 'dataproduct_type', 'proposal_pi', 'calib_level', 't_min', 't_max', 't_exptime', 'em_min', 'em_max', 'obs_title', 't_obs_release', 'proposal_id', 'proposal_type', 'sequence_number', 's_region', 'jpegURL', 'dataURL', 'dataRights', 'mtFlag', 'srcDen', 'obsid', 'distance'] \n",
      "\n",
      "\n",
      " obsid   instrument_name filters                obs_id                      t_min      \n",
      "-------- --------------- ------- ------------------------------------ -----------------\n",
      "87602454          NIRCAM   F090W jw02733-o001_t001_nircam_clear-f090w 59733.74120144838\n",
      "87602522          NIRCAM   F187N jw02733-o001_t001_nircam_clear-f187n 59733.70454250509\n",
      "87602523          NIRCAM   F212N jw02733-o001_t001_nircam_clear-f212n 59733.66775883611\n",
      "87602457          NIRCAM   F356W jw02733-o001_t001_nircam_clear-f356w 59733.74120218912\n",
      "87602459          NIRCAM   F444W jw02733-o001_t001_nircam_f405n-f444w 59733.66775883611\n",
      "87602464          NIRCAM   F444W jw02733-o001_t001_nircam_f444w-f470n 59733.70454250509\n",
      "87602450            MIRI  F1130W        jw02733-o002_t001_miri_f1130w 59742.52554607129\n",
      "87602461            MIRI  F1280W        jw02733-o002_t001_miri_f1280w 59742.54989271481\n",
      "87602456            MIRI  F1800W        jw02733-o002_t001_miri_f1800w 59742.57449639537\n",
      "87602452            MIRI   F770W         jw02733-o002_t001_miri_f770w 59742.50030178889\n"
     ]
    }
   ],
   "source": [
    "print(jwst_only.keys(), '\\n\\n')\n",
    "print(jwst_only['obsid', 'instrument_name', 'filters', 'obs_id', 't_min'])"
   ]
  },
  {
   "cell_type": "markdown",
   "id": "c200d8f7-6188-451f-adea-049f443cb066",
   "metadata": {},
   "source": [
    "The NIRCAM obserations seem to be mainly differentiated by filters used. There are [29 different NIRCAM filters](https://jwst-docs.stsci.edu/jwst-near-infrared-camera/nircam-instrumentation/nircam-filters) each giving you images of different parts of the wavelength spectrum. In order to make a beautiful composite image like the one released, you'd want to combine the images from the different filters, but for the simplicity of this tutorial let's just pick one with F444W as that seems to cover a broad range of wavelengths in the diagram. \n",
    "\n",
    "I'll arbitrarily pick the one that started first (smaller <code>t_min</code>): <code>jw02733-o001_t001_nircam_f405n-f444w</code> / 87602459."
   ]
  },
  {
   "cell_type": "code",
   "execution_count": 73,
   "id": "9957411a-e928-4fe3-8dc5-2a3525f19799",
   "metadata": {},
   "outputs": [
    {
     "name": "stdout",
     "output_type": "stream",
     "text": [
      "\n",
      " Observation 87602459 of NGC 3132: \n",
      "\n",
      "intentType obs_collection provenance_name instrument_name project ... mtFlag srcDen  obsid   distance\n",
      "---------- -------------- --------------- --------------- ------- ... ------ ------ -------- --------\n",
      "   science           JWST         CALJWST          NIRCAM    JWST ...  False    nan 87602459      0.0\n",
      "\n",
      " Data Products: \n",
      "\n",
      " obsID   obs_collection dataproduct_type ... parent_obsid dataRights calib_level\n",
      "-------- -------------- ---------------- ... ------------ ---------- -----------\n",
      "87602459           JWST            image ...     87602459     PUBLIC           3\n",
      "87602459           JWST            image ...     87602459     PUBLIC           3\n",
      "87602459           JWST            image ...     87602459     PUBLIC           3\n",
      "87602459           JWST            image ...     87602459     PUBLIC           3\n",
      "87602459           JWST            image ...     87602459     PUBLIC           3\n",
      "87602459           JWST            image ...     87602459     PUBLIC           3\n",
      "     ...            ...              ... ...          ...        ...         ...\n",
      "87602149           JWST            image ...     87602459     PUBLIC           2\n",
      "87602149           JWST            image ...     87602459     PUBLIC           2\n",
      "87602149           JWST            image ...     87602459     PUBLIC           2\n",
      "87602149           JWST            image ...     87602459     PUBLIC           2\n",
      "87602149           JWST            image ...     87602459     PUBLIC           2\n",
      "87602149           JWST            image ...     87602459     PUBLIC           2\n",
      "87602149           JWST            image ...     87602459     PUBLIC           1\n",
      "Length = 1494 rows\n"
     ]
    }
   ],
   "source": [
    "# Pick a particular observation from the list.\n",
    "obs_87602459 = jwst_only[(jwst_only['obsid'] == '87602459')]\n",
    "print(\"\\n Observation 87602459 of NGC 3132: \\n\")\n",
    "print(obs_87602459)\n",
    "\n",
    "# Get a list of the \"Data Products\" available from the observations.\n",
    "dataProducts = Observations.get_product_list(obs_87602459)\n",
    "print(\"\\n Data Products: \\n\")\n",
    "print(dataProducts)"
   ]
  },
  {
   "cell_type": "markdown",
   "id": "66467006-3ee2-4846-97f6-65456a33882e",
   "metadata": {},
   "source": [
    "## Choosing a Data Product \n",
    "\n",
    "As you can see there are lots of data products. In order to narrow them down, lets look at the <code>calib_level</code> value, which tells us how \"raw\" the data is. This is important, because data coming directly from the telescope is processed and calibrated to increasining degrees of refinement, so we generally want the highest possible calibration level.\n",
    "\n",
    "Level 3 is [defined](https://outerspace.stsci.edu/display/MASTDOCS/Science+Data+Products) as \"Combined, calibrated science product per target or source\", which sounds pretty good. Also, as you can see below, there's a much more manageable number of <code>calib_level</code> 3 data products to contend with:"
   ]
  },
  {
   "cell_type": "code",
   "execution_count": 74,
   "id": "e0fea723-486c-407a-9b28-6c8948f96d6f",
   "metadata": {},
   "outputs": [
    {
     "name": "stdout",
     "output_type": "stream",
     "text": [
      "Found  6  data products with calibration level >= 3: \n",
      "\n",
      " obsID   obs_collection dataproduct_type ... parent_obsid dataRights calib_level\n",
      "-------- -------------- ---------------- ... ------------ ---------- -----------\n",
      "87602459           JWST            image ...     87602459     PUBLIC           3\n",
      "87602459           JWST            image ...     87602459     PUBLIC           3\n",
      "87602459           JWST            image ...     87602459     PUBLIC           3\n",
      "87602459           JWST            image ...     87602459     PUBLIC           3\n",
      "87602459           JWST            image ...     87602459     PUBLIC           3\n",
      "87602459           JWST            image ...     87602459     PUBLIC           3\n",
      "\n",
      " ['obsID', 'obs_collection', 'dataproduct_type', 'obs_id', 'description', 'type', 'dataURI', 'productType', 'productGroupDescription', 'productSubGroupDescription', 'productDocumentationURL', 'project', 'prvversion', 'proposal_id', 'productFilename', 'size', 'parent_obsid', 'dataRights', 'calib_level']\n",
      " obsID   productSubGroupDescription                 description                 \n",
      "-------- -------------------------- --------------------------------------------\n",
      "87602459                       SEGM             target   (L3) : segmentation map\n",
      "87602459                        ASN   source/target (L3) : association generator\n",
      "87602459                       POOL        source/target (L3) : association pool\n",
      "87602459                         --                                 Preview-Full\n",
      "87602459                        CAT               target   (L3) : source catalog\n",
      "87602459                        I2D exposure/target (L2b/L3): rectified 2D image\n"
     ]
    }
   ],
   "source": [
    "calibrated = dataProducts[(dataProducts['calib_level'] >= 3)]\n",
    "print(\"Found \", len(calibrated), \" data products with calibration level >= 3: \\n\")\n",
    "print(calibrated)\n",
    "\n",
    "# See how we can differentiate the products\n",
    "print(\"\\n\",calibrated.keys())\n",
    "print(calibrated['obsID','productSubGroupDescription','description'])\n"
   ]
  },
  {
   "cell_type": "markdown",
   "id": "86b70a21-2e73-4703-804f-bd9e0de67d35",
   "metadata": {},
   "source": [
    "\n",
    "Which of these should we download? Reading through [the docs](https://jwst-pipeline.readthedocs.io/en/latest/jwst/data_products/science_products.html) on the data product formats, the [I2D](https://jwst-pipeline.readthedocs.io/en/latest/jwst/data_products/science_products.html#resampled-2-d-data-i2d-and-s2d) sounds most like what we want- image data we can display. Let's download it and see."
   ]
  },
  {
   "cell_type": "code",
   "execution_count": 75,
   "id": "f594269f-e20a-4eaf-99e0-216bb082b9d0",
   "metadata": {},
   "outputs": [
    {
     "name": "stdout",
     "output_type": "stream",
     "text": [
      "INFO: Found cached file ./mastDownload/JWST/jw02733-o001_t001_nircam_f405n-f444w/jw02733-o001_t001_nircam_f405n-f444w_i2d.fits with expected size 155024640. [astroquery.query]\n"
     ]
    }
   ],
   "source": [
    "i2d = calibrated[(calibrated[\"productSubGroupDescription\"] == \"I2D\")]\n",
    "\n",
    "# Note that mrp_only should be redundant here- it means \"Minimum Recommended Products\", which are\n",
    "# products calibrated finely enough to be reccomended for science use. As we already filtered to\n",
    "# calib_level >= 3, both our products should be downloaded.\n",
    "manifest = Observations.download_products(i2d,mrp_only=True)"
   ]
  },
  {
   "cell_type": "code",
   "execution_count": 76,
   "id": "69767fcd-ee35-4ad2-bdfa-9c2f6cee6a16",
   "metadata": {},
   "outputs": [
    {
     "data": {
      "text/html": [
       "<div><i>Table length=1</i>\n",
       "<table id=\"table11203415488\" class=\"table-striped table-bordered table-condensed\">\n",
       "<thead><tr><th>Local Path</th><th>Status</th><th>Message</th><th>URL</th></tr></thead>\n",
       "<thead><tr><th>str102</th><th>str8</th><th>object</th><th>object</th></tr></thead>\n",
       "<tr><td>./mastDownload/JWST/jw02733-o001_t001_nircam_f405n-f444w/jw02733-o001_t001_nircam_f405n-f444w_i2d.fits</td><td>COMPLETE</td><td>None</td><td>None</td></tr>\n",
       "</table></div>"
      ],
      "text/plain": [
       "<Table length=1>\n",
       "                                              Local Path                                               ...\n",
       "                                                str102                                                 ...\n",
       "------------------------------------------------------------------------------------------------------ ...\n",
       "./mastDownload/JWST/jw02733-o001_t001_nircam_f405n-f444w/jw02733-o001_t001_nircam_f405n-f444w_i2d.fits ..."
      ]
     },
     "execution_count": 76,
     "metadata": {},
     "output_type": "execute_result"
    }
   ],
   "source": [
    "manifest"
   ]
  },
  {
   "cell_type": "markdown",
   "id": "be1dce0f-c36d-40ef-93d3-f2733a94e172",
   "metadata": {},
   "source": [
    "# 3. Loading and Viewing Downloaded Data\n",
    "\n",
    "Hooray, we successfully downloaded real JWST data! You can see the file extension is .fits, which is a common file format in astronomy. Its docs are [here](https://fits.gsfc.nasa.gov/fits_standard.html), and we imported a fits module from astropy earlier to deal with it.\n",
    "\n",
    "Lets load in our downloaded data and see if we can display it. I checked the [astropy docs on reading images](https://docs.astropy.org/en/stable/generated/examples/io/plot_fits-image.html), which gave me the imports below, but you could probably manage with just standard matplotlib."
   ]
  },
  {
   "cell_type": "code",
   "execution_count": 77,
   "id": "41d96558-3431-4214-a76f-0c0fde2c5bf5",
   "metadata": {},
   "outputs": [],
   "source": [
    "import numpy as np\n",
    "import matplotlib.pyplot as plt\n",
    "%matplotlib inline \n",
    "\n",
    "# Importing some special packages to display astronomy data.\n",
    "from matplotlib.colors import LogNorm\n",
    "from astropy.visualization import astropy_mpl_style\n",
    "plt.style.use(astropy_mpl_style)"
   ]
  },
  {
   "cell_type": "code",
   "execution_count": 78,
   "id": "547b204d-56e9-4c83-81de-7adf207aba8e",
   "metadata": {},
   "outputs": [],
   "source": [
    "dp_87602459 = fits.open(manifest['Local Path'][0])"
   ]
  },
  {
   "cell_type": "markdown",
   "id": "d9e7b333-4e7f-4e83-b9b9-118712e82337",
   "metadata": {},
   "source": [
    "We can poke around this file by using the <code>.info()</code> method to see what is in <code>dp_87602459</code>."
   ]
  },
  {
   "cell_type": "code",
   "execution_count": 102,
   "id": "d0cb39c4-1555-4980-8550-ddeff4cece3b",
   "metadata": {
    "tags": []
   },
   "outputs": [
    {
     "name": "stdout",
     "output_type": "stream",
     "text": [
      "Filename: ./mastDownload/JWST/jw02733-o001_t001_nircam_f405n-f444w/jw02733-o001_t001_nircam_f405n-f444w_i2d.fits\n",
      "No.    Name      Ver    Type      Cards   Dimensions   Format\n",
      "  0  PRIMARY       1 PrimaryHDU     372   ()      \n",
      "  1  SCI           1 ImageHDU        75   (2355, 2348)   float32   \n",
      "  2  ERR           1 ImageHDU        10   (2355, 2348)   float32   \n",
      "  3  CON           1 ImageHDU         9   (2355, 2348)   int32   \n",
      "  4  WHT           1 ImageHDU         9   (2355, 2348)   float32   \n",
      "  5  VAR_POISSON    1 ImageHDU         9   (2355, 2348)   float32   \n",
      "  6  VAR_RNOISE    1 ImageHDU         9   (2355, 2348)   float32   \n",
      "  7  VAR_FLAT      1 ImageHDU         9   (2355, 2348)   float32   \n",
      "  8  HDRTAB        1 BinTableHDU    816   8R x 403C   [23A, 5A, 3A, 48A, 7A, 13A, 7A, 5A, 7A, 10A, 4A, L, D, D, D, D, 32A, 48A, 32A, 21A, 3A, 3A, D, D, 10A, 12A, 23A, 23A, 26A, 11A, 5A, 3A, 3A, 2A, 1A, 2A, 1A, L, 14A, 23A, 2A, 26A, 20A, 27A, 10A, K, L, L, L, L, 8A, 8A, 5A, D, D, D, D, D, D, 27A, D, D, D, 6A, 8A, 1A, 4A, 5A, 5A, L, D, D, D, D, D, D, D, D, D, D, D, D, 4A, D, D, D, D, D, D, D, D, D, K, 5A, 9A, D, D, D, D, D, D, D, D, D, 8A, D, D, K, K, D, D, K, K, D, D, K, K, K, K, K, D, D, D, D, D, D, D, D, K, K, L, L, K, K, D, D, D, D, D, D, D, 4A, K, K, K, K, K, K, D, D, D, D, 12A, 1A, K, K, D, K, D, D, D, D, D, K, 8A, D, D, D, D, D, D, D, D, D, D, 7A, 10A, D, D, D, D, D, D, D, D, D, D, D, D, D, 10A, 10A, D, D, D, D, D, D, D, D, D, D, D, D, K, K, D, 4A, K, K, K, D, 4A, K, K, K, D, 4A, K, D, D, K, 27A, 27A, 10A, D, D, D, D, D, D, D, 9A, 27A, D, D, D, D, D, D, D, 7A, 14A, 33A, D, D, 3A, 3A, D, 33A, 3A, 39A, D, D, 41A, 33A, 3A, 3A, 3A, 3A, 3A, D, 33A, 3A, 3A, 3A, D, D, 38A, 33A, 3A, 3A, D, 35A, 35A, D, 38A, D, 3A, D, D, D, D, 39A, D, D, D, 3A, D, 38A, D, 40A, 37A, D, D, D, 3A, D, D, D, D, D, 8A, D, D, D, D, D, 8A, 8A, D, D, D, D, D, 8A, D, 7A, 7A, D, D, D, 8A, D, D, 8A, D, D, D, 8A, D, 8A, 8A, 8A, 8A, D, D, D, 8A, 8A, D, D, D, D, 8A, D, 8A, D, D, D, 5A, D, L, 6A, D, D, D, D, 4A, D, D, D, K, D, D, D, D, D, D, 12A, 12A, D, 3A, 3A, D, D, D, D, D, D, D, D, D, D, D, D, D, D, D, D, D, 125A, D, D, D, D, D, D, K, D, D, D, D]   \n",
      "  9  ASDF          1 BinTableHDU     11   1R x 1C   [36727B]   \n"
     ]
    }
   ],
   "source": [
    "# We can see there are 9 HDUs in the file of various types - one Primary HDU, 7\n",
    "# ImageHDUs, and 2 trailing BinTableHDUs.\n",
    "dp_87602459.info()"
   ]
  },
  {
   "cell_type": "markdown",
   "id": "e0283f34-9eaf-49a3-a1b8-073859617a06",
   "metadata": {
    "tags": []
   },
   "source": [
    "#### Figuring out the shape of the data\n",
    "\n",
    "We can use the [docs](https://jwst-pipeline.readthedocs.io/en/latest/jwst/data_products/science_products.html#resampled-2-d-data-i2d-and-s2d) to understand shape of our data we saw in the output of <code>.info()</code> above. Of particular interest in the docs is: \n",
    "\n",
    "- The file consists of an [HDU list](https://docs.astropy.org/en/stable/io/fits/api/hdulists.html), made up of Header Data Units, which each contain data and a header object that describes the data.\n",
    "- There is a leading \"Primary\" HDU containing information about the data product as a whole (but no data), and a trailing HDU containing \"ADSF\"- the data model metadata. We saw the primary HDU in the cell above.\n",
    "- For our data product type (<code>I2D</code>), the \"SCI\" ext name seems to indicate something interesting we could use: _\"SCI: 2-D data array containing the pixel values, in units of surface brightness\"_. We can see in the <code>.info()</code> output that the <code>SCI</code> data is stored at index 1.\n",
    "\n",
    "Next, lets look at the <code>SCI</code> object and its header."
   ]
  },
  {
   "cell_type": "code",
   "execution_count": 103,
   "id": "c69b2b8d-83f5-44b3-8e09-c208fb6c222f",
   "metadata": {},
   "outputs": [
    {
     "name": "stdout",
     "output_type": "stream",
     "text": [
      "Header of HDU 1 - the 'SCI' \n"
     ]
    },
    {
     "data": {
      "text/plain": [
       "XTENSION= 'IMAGE   '           / Image extension                                \n",
       "BITPIX  =                  -32 / array data type                                \n",
       "NAXIS   =                    2 / number of array dimensions                     \n",
       "NAXIS1  =                 2355                                                  \n",
       "NAXIS2  =                 2348                                                  \n",
       "PCOUNT  =                    0 / number of parameters                           \n",
       "GCOUNT  =                    1 / number of groups                               \n",
       "EXTNAME = 'SCI     '           / extension name                                 \n",
       "MJD-BEG =    59733.66775883611 / [d] exposure start time in MJD                 \n",
       "MJD-AVG =    59733.68472172708 / [d] exposure mid-point in MJD                  \n",
       "MJD-END =    59733.70168424769 / [d] exposure end time in MJD                   \n",
       "TDB-BEG =    59733.66709021439 / [d] TDB time of exposure start in MJD          \n",
       "TDB-MID =    59733.68405238824 / [d] TDB time of exposure mid-point in MJD      \n",
       "TDB-END =    59733.70101419182 / [d] TDB time of exposure end in MJD            \n",
       "XPOSURE =             2319.144 / [s] Effective exposure time                    \n",
       "TELAPSE =             2319.144 / [s] Total elapsed exposure time                \n",
       "                                                                                \n",
       "        JWST ephemeris information                                              \n",
       "                                                                                \n",
       "REFFRAME= 'EME2000 '           / Ephemeris reference frame                      \n",
       "EPH_TYPE= 'Definitive'         / Definitive or Predicted                        \n",
       "EPH_TIME=    59733.67777777778 / UTC time of position and velocity vectors in ep\n",
       "JWST_X  =   -46100200.39299012 / [km] barycentric JWST X coordinate at MJD_AVG  \n",
       "JWST_Y  =   -134120152.1489441 / [km] barycentric JWST Y coordinate at MJD_AVG  \n",
       "JWST_Z  =    -58373432.5774345 / [km] barycentric JWST Z coordinate at MJD_AVG  \n",
       "OBSGEO-X=     182567580.542326 / [m] geocentric JWST X coordinate at MJD_AVG    \n",
       "OBSGEO-Y=    -1402921084.99881 / [m] geocentric JWST Y coordinate at MJD_AVG    \n",
       "OBSGEO-Z=   -872681909.8026561 / [m] geocentric JWST Z coordinate at MJD_AVG    \n",
       "JWST_DX =    28.12636087690226 / [km/s] barycentric JWST X velocity at MJD_AVG  \n",
       "JWST_DY =    -8.17781528112566 / [km/s] barycentric JWST Y velocity at MJD_AVG  \n",
       "JWST_DZ =   -3.698009354666405 / [km/s] barycentric JWST Z velocity at MJD_AVG  \n",
       "OBSGEODX=     151.294137343729 / [m/s] geocentric JWST X velocity at MJD_AVG    \n",
       "OBSGEODY=     29.3146581083253 / [m/s] geocentric JWST Y velocity at MJD_AVG    \n",
       "OBSGEODZ=    -139.872440966068 / [m/s] geocentric JWST Z velocity at MJD_AVG    \n",
       "PA_APER =    112.0016506576546 / [deg] Position angle of aperture used          \n",
       "VA_SCALE=   0.9999352745363637 / Velocity aberration scale factor               \n",
       "BUNIT   = 'MJy/sr  '           / physical units of the array values             \n",
       "                                                                                \n",
       "        Photometry information                                                  \n",
       "                                                                                \n",
       "PHOTMJSR=    9.906220436096191 / Flux density (MJy/steradian) producing 1 cps   \n",
       "PHOTUJA2=    232.8400701452149 / Flux density (uJy/arcsec2) producing 1 cps     \n",
       "PIXAR_SR= 9.33676246141109E-14 / Nominal pixel area in steradians               \n",
       "PIXAR_A2= 0.003972341489354567 / Nominal pixel area in arcsec^2                 \n",
       "                                                                                \n",
       "        Information about the coordinates in the file                           \n",
       "                                                                                \n",
       "RADESYS = 'ICRS    '           / Name of the coordinate reference frame         \n",
       "                                                                                \n",
       "        Spacecraft pointing information                                         \n",
       "                                                                                \n",
       "RA_V1   =    151.9122637236501 / [deg] RA of telescope V1 axis                  \n",
       "DEC_V1  =   -40.51160314469386 / [deg] Dec of telescope V1 axis                 \n",
       "PA_V3   =    111.9017790497759 / [deg] Position angle of telescope V3 axis      \n",
       "                                                                                \n",
       "        WCS parameters                                                          \n",
       "                                                                                \n",
       "WCSAXES =                    2 / number of World Coordinate System axes         \n",
       "CRPIX1  =    1176.583712808432 / axis 1 coordinate of the reference pixel       \n",
       "CRPIX2  =    1168.610782679441 / axis 2 coordinate of the reference pixel       \n",
       "CRVAL1  =    151.7572151616854 / first axis value at the reference pixel        \n",
       "CRVAL2  =    -40.4364512733631 / second axis value at the reference pixel       \n",
       "CTYPE1  = 'RA---TAN'           / first axis coordinate type                     \n",
       "CTYPE2  = 'DEC--TAN'           / second axis coordinate type                    \n",
       "CUNIT1  = 'deg     '           / first axis units                               \n",
       "CUNIT2  = 'deg     '           / second axis units                              \n",
       "CDELT1  = 1.75004669011828E-05 / first axis increment per pixel                 \n",
       "CDELT2  = 1.75004669011828E-05 / second axis increment per pixel                \n",
       "PC1_1   =   0.3746333048810923 / linear transformation matrix element           \n",
       "PC1_2   =   0.9271730619867418 / linear transformation matrix element           \n",
       "PC2_1   =   0.9271730619867418 / linear transformation matrix element           \n",
       "PC2_2   =  -0.3746333048810923 / linear transformation matrix element           \n",
       "S_REGION= 'POLYGON ICRS  151.722191305 -40.447865807 151.772258780 &'           \n",
       "CONTINUE  '-40.463264208 151.792532511 -40.425047673 151.742488840 &'           \n",
       "CONTINUE  '-40.409658021&'                                                      \n",
       "CONTINUE  '' / spatial extent of the observation                                \n",
       "VELOSYS =             19405.59 / [m/s] Barycentric correction to radial velocity\n",
       "EXTVER  =                    1 / extension value                                "
      ]
     },
     "execution_count": 103,
     "metadata": {},
     "output_type": "execute_result"
    }
   ],
   "source": [
    "# Looking at the header for the second HDU at index 1, we see it describes\n",
    "# the data it contains, and that it matches the description in the docs - a\n",
    "# 2D array, with various pieces of metadata. NAXIS1 and NAXIS2 tell us the\n",
    "# number of pixels in each dimension of the array- so this is a big image!\n",
    "print(\"Header of HDU 1 - the 'SCI' \")\n",
    "dp_87602459[1].header"
   ]
  },
  {
   "cell_type": "markdown",
   "id": "0698d720-338e-47f4-bcae-53cb74cb4aea",
   "metadata": {},
   "source": [
    "#### Finally, a picture!\n",
    "Now that we've looked at the header for the 'SCI' object, and understand what the data's shape is and its meaning, lets look at the data itself."
   ]
  },
  {
   "cell_type": "code",
   "execution_count": 95,
   "id": "affc31a6-6afe-48f1-baf8-7ff90cfa3202",
   "metadata": {},
   "outputs": [
    {
     "name": "stdout",
     "output_type": "stream",
     "text": [
      "data shape:  (2348, 2355)\n"
     ]
    },
    {
     "data": {
      "text/plain": [
       "<matplotlib.colorbar.Colorbar at 0x29acfafa0>"
      ]
     },
     "execution_count": 95,
     "metadata": {},
     "output_type": "execute_result"
    },
    {
     "data": {
      "image/png": "[encoded data removed]",
      "text/plain": [
       "<Figure size 576x432 with 2 Axes>"
      ]
     },
     "metadata": {},
     "output_type": "display_data"
    }
   ],
   "source": [
    "data = dp_87602459[1].data\n",
    "# As expected, the data is a 2D numpy array\n",
    "print('data shape: ', np.shape(data))\n",
    "\n",
    "# Let's plot it as an image and see what we get:\n",
    "plt.figure()\n",
    "plt.imshow(data, cmap='gray')\n",
    "plt.colorbar()"
   ]
  },
  {
   "cell_type": "markdown",
   "id": "85ec97df-ce45-4160-aa67-0a05fc264454",
   "metadata": {},
   "source": [
    "hmm, pretty underwhelming stuff. Let's troubleshoot. There is definitely data present, and looking at the historgram data below, you can see there's massive dynamic range in the image (lots of basically zero values, and a few very bright ones). "
   ]
  },
  {
   "cell_type": "code",
   "execution_count": 98,
   "id": "79f2a304-766c-4464-ac56-71348e59e3b5",
   "metadata": {},
   "outputs": [
    {
     "name": "stdout",
     "output_type": "stream",
     "text": [
      "9731093.0\n"
     ]
    },
    {
     "data": {
      "text/plain": [
       "(array([5529285,      92,      56,      48,      27,       7,       9,\n",
       "              8,       3,       5]),\n",
       " array([-1.6967964e+00,  1.7483664e+02,  3.5137009e+02,  5.2790350e+02,\n",
       "         7.0443695e+02,  8.8097040e+02,  1.0575038e+03,  1.2340372e+03,\n",
       "         1.4105707e+03,  1.5871041e+03,  1.7636376e+03], dtype=float32))"
      ]
     },
     "execution_count": 98,
     "metadata": {},
     "output_type": "execute_result"
    }
   ],
   "source": [
    "print(np.sum(data))\n",
    "# The initial array shows us how many pixels fall into the corresponding \"bin\" in the same index\n",
    "# of the second array.\n",
    "np.histogram(data)"
   ]
  },
  {
   "cell_type": "markdown",
   "id": "c8879b10-3600-4000-bd48-fb6e86848d6b",
   "metadata": {},
   "source": [
    "So, let's adjust our matplotlib image display to clip values above/below a threshold, so that we display all pixels that have \"at least some\" light in them as white. We can mess around with the display to get something we like."
   ]
  },
  {
   "cell_type": "code",
   "execution_count": 106,
   "id": "313a97ab-4dc4-4f37-8bbb-80014496f6b6",
   "metadata": {},
   "outputs": [
    {
     "data": {
      "text/plain": [
       "<matplotlib.colorbar.Colorbar at 0x29fcef190>"
      ]
     },
     "execution_count": 106,
     "metadata": {},
     "output_type": "execute_result"
    },
    {
     "data": {
      "image/png": "[encoded data removed]",
      "text/plain": [
       "<Figure size 576x432 with 2 Axes>"
      ]
     },
     "metadata": {},
     "output_type": "display_data"
    }
   ],
   "source": [
    "plt.figure()\n",
    "plt.imshow(data, cmap='gray',interpolation='nearest',\n",
    "               vmin=0, vmax=50)\n",
    "plt.colorbar()"
   ]
  },
  {
   "cell_type": "markdown",
   "id": "e46c2dfa-ab70-4eb7-998c-fea1f4c6aac1",
   "metadata": {},
   "source": [
    "There she is! Now you can get fancy and add colours, or combine different filters, or compare the image to ones taken by earlier missions."
   ]
  },
  {
   "cell_type": "markdown",
   "id": "565a60c1-3d1e-46ae-9bd0-2cfeaf08d3af",
   "metadata": {},
   "source": [
    "# Resources / Links / More Information\n",
    "- [JWST Data Guide](https://outerspace.stsci.edu/display/MASTDOCS/Science+Data+Products)\n",
    "- [JWST Science Product Format Descriptions](https://jwst-pipeline.readthedocs.io/en/latest/jwst/data_products/science_products.html)"
   ]
  }
 ],
 "metadata": {
  "kernelspec": {
   "display_name": "Python 3 (ipykernel)",
   "language": "python",
   "name": "python3"
  },
  "language_info": {
   "codemirror_mode": {
    "name": "ipython",
    "version": 3
   },
   "file_extension": ".py",
   "mimetype": "text/x-python",
   "name": "python",
   "nbconvert_exporter": "python",
   "pygments_lexer": "ipython3",
   "version": "3.9.12"
  }
 },
 "nbformat": 4,
 "nbformat_minor": 5
}
